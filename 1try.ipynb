{
 "cells": [
  {
   "cell_type": "code",
   "execution_count": 10,
   "id": "ca663703",
   "metadata": {},
   "outputs": [],
   "source": [
    "import numpy as np\n",
    "import cv2\n",
    "import matplotlib.pyplot as plt\n",
    "import random"
   ]
  },
  {
   "cell_type": "code",
   "execution_count": 11,
   "id": "33ea0fcd",
   "metadata": {},
   "outputs": [],
   "source": [
    "IMG_SIZE = 28\n",
    "MIN_MARGIN = 10  # мінімальна відстань від краю\n",
    "MIN_SIZE = 5\n",
    "MAX_SIZE = 8\n",
    "CLASSES = ['circle', 'square', 'triangle']\n",
    "\n",
    "def generate_shape_image(shape: str) -> np.ndarray:\n",
    "    img = np.zeros((IMG_SIZE, IMG_SIZE), dtype=np.uint8)\n",
    "\n",
    "    max_shape_size = 6  # зменшений розмір фігур\n",
    "    size = random.randint(4, max_shape_size)\n",
    "    angle = random.uniform(0, 360)\n",
    "\n",
    "    margin = int(np.ceil(size * 1.5))  # запас для обертання\n",
    "    center = (\n",
    "        random.randint(margin, IMG_SIZE - margin),\n",
    "        random.randint(margin, IMG_SIZE - margin)\n",
    "    )\n",
    "\n",
    "    if shape == 'circle':\n",
    "        cv2.circle(img, center, size, 255, -1)\n",
    "\n",
    "    elif shape == 'square':\n",
    "        # створити квадрат навколо центру\n",
    "        box = np.array([\n",
    "            [-size, -size],\n",
    "            [ size, -size],\n",
    "            [ size,  size],\n",
    "            [-size,  size]\n",
    "        ], dtype=np.float32)\n",
    "        # повернути його\n",
    "        rot = cv2.getRotationMatrix2D((0, 0), angle, 1.0)\n",
    "        box = np.dot(box, rot[:, :2].T)\n",
    "        box += np.array(center)\n",
    "        cv2.fillConvexPoly(img, box.astype(np.int32), 255)\n",
    "\n",
    "    elif shape == 'triangle':\n",
    "        pts = np.array([\n",
    "            [0, -size],\n",
    "            [-size, size],\n",
    "            [size, size]\n",
    "        ], dtype=np.float32)\n",
    "        rot = cv2.getRotationMatrix2D((0, 0), angle, 1.0)\n",
    "        pts = np.dot(pts, rot[:, :2].T)\n",
    "        pts += np.array(center)\n",
    "        cv2.fillConvexPoly(img, pts.astype(np.int32), 255)\n",
    "\n",
    "    return img\n"
   ]
  },
  {
   "cell_type": "code",
   "execution_count": 12,
   "id": "b8589188",
   "metadata": {},
   "outputs": [],
   "source": [
    "\n",
    "def generate_dataset(num_samples_per_class=1000):\n",
    "    X = []\n",
    "    y = []\n",
    "\n",
    "    for label, shape in enumerate(CLASSES):\n",
    "        for _ in range(num_samples_per_class):\n",
    "            img = generate_shape_image(shape)\n",
    "            X.append(img)\n",
    "            y.append(label)\n",
    "\n",
    "    X = np.array(X).astype('float32') / 255.0  # Нормалізація\n",
    "    X = X[..., np.newaxis]  # додати канал\n",
    "    y = np.array(y)\n",
    "\n",
    "    return X, y\n",
    "\n",
    "# Генеруємо дані\n",
    "X, y = generate_dataset()\n",
    "\n",
    "from sklearn.utils import shuffle\n",
    "X, y = shuffle(X, y)\n"
   ]
  },
  {
   "cell_type": "code",
   "execution_count": 13,
   "id": "41e3527f",
   "metadata": {},
   "outputs": [
    {
     "data": {
      "image/png": "[encoded data removed]",
      "text/plain": [
       "<Figure size 1500x200 with 10 Axes>"
      ]
     },
     "metadata": {},
     "output_type": "display_data"
    }
   ],
   "source": [
    "# Показати 10 випадкових зображень\n",
    "indices = np.random.choice(len(X), 10, replace=False)\n",
    "fig, axs = plt.subplots(1, 10, figsize=(15, 2))\n",
    "for i, idx in enumerate(indices):\n",
    "    axs[i].imshow(X[idx].squeeze(), cmap='gray')\n",
    "    axs[i].set_title(CLASSES[y[idx]])\n",
    "    axs[i].axis('off')\n",
    "plt.tight_layout()\n",
    "plt.show()\n"
   ]
  },
  {
   "cell_type": "code",
   "execution_count": 14,
   "id": "ef0bf6ee",
   "metadata": {},
   "outputs": [
    {
     "name": "stderr",
     "output_type": "stream",
     "text": [
      "c:\\Users\\yardz\\AppData\\Local\\Programs\\Python\\Python312\\Lib\\site-packages\\keras\\src\\layers\\convolutional\\base_conv.py:107: UserWarning: Do not pass an `input_shape`/`input_dim` argument to a layer. When using Sequential models, prefer using an `Input(shape)` object as the first layer in the model instead.\n",
      "  super().__init__(activity_regularizer=activity_regularizer, **kwargs)\n"
     ]
    }
   ],
   "source": [
    "from tensorflow.keras.models import Sequential\n",
    "from tensorflow.keras.layers import Conv2D, MaxPooling2D, Flatten, Dense\n",
    "\n",
    "model = Sequential([\n",
    "    Conv2D(32, (3, 3), activation='relu', input_shape=(IMG_SIZE, IMG_SIZE, 1)),\n",
    "    MaxPooling2D((2, 2)),\n",
    "    Conv2D(64, (3, 3), activation='relu'),\n",
    "    MaxPooling2D((2, 2)),\n",
    "    Flatten(),\n",
    "    Dense(128, activation='relu'),\n",
    "    Dense(len(CLASSES), activation='softmax')\n",
    "])\n"
   ]
  },
  {
   "cell_type": "code",
   "execution_count": 15,
   "id": "e47e7da6",
   "metadata": {},
   "outputs": [],
   "source": [
    "model.compile(optimizer='adam',\n",
    "              loss='sparse_categorical_crossentropy',\n",
    "              metrics=['accuracy'])"
   ]
  },
  {
   "cell_type": "code",
   "execution_count": 16,
   "id": "cedf039b",
   "metadata": {},
   "outputs": [
    {
     "name": "stdout",
     "output_type": "stream",
     "text": [
      "Epoch 1/10\n",
      "\u001b[1m75/75\u001b[0m \u001b[32m━━━━━━━━━━━━━━━━━━━━\u001b[0m\u001b[37m\u001b[0m \u001b[1m1s\u001b[0m 8ms/step - accuracy: 0.4184 - loss: 1.0582 - val_accuracy: 0.5583 - val_loss: 0.8563\n",
      "Epoch 2/10\n",
      "\u001b[1m75/75\u001b[0m \u001b[32m━━━━━━━━━━━━━━━━━━━━\u001b[0m\u001b[37m\u001b[0m \u001b[1m0s\u001b[0m 6ms/step - accuracy: 0.6181 - loss: 0.8262 - val_accuracy: 0.6950 - val_loss: 0.6538\n",
      "Epoch 3/10\n",
      "\u001b[1m75/75\u001b[0m \u001b[32m━━━━━━━━━━━━━━━━━━━━\u001b[0m\u001b[37m\u001b[0m \u001b[1m0s\u001b[0m 6ms/step - accuracy: 0.7935 - loss: 0.5223 - val_accuracy: 0.9200 - val_loss: 0.2761\n",
      "Epoch 4/10\n",
      "\u001b[1m75/75\u001b[0m \u001b[32m━━━━━━━━━━━━━━━━━━━━\u001b[0m\u001b[37m\u001b[0m \u001b[1m0s\u001b[0m 6ms/step - accuracy: 0.9572 - loss: 0.2015 - val_accuracy: 0.9317 - val_loss: 0.2143\n",
      "Epoch 5/10\n",
      "\u001b[1m75/75\u001b[0m \u001b[32m━━━━━━━━━━━━━━━━━━━━\u001b[0m\u001b[37m\u001b[0m \u001b[1m0s\u001b[0m 6ms/step - accuracy: 0.9809 - loss: 0.1038 - val_accuracy: 0.9567 - val_loss: 0.1262\n",
      "Epoch 6/10\n",
      "\u001b[1m75/75\u001b[0m \u001b[32m━━━━━━━━━━━━━━━━━━━━\u001b[0m\u001b[37m\u001b[0m \u001b[1m0s\u001b[0m 6ms/step - accuracy: 0.9867 - loss: 0.0663 - val_accuracy: 0.9750 - val_loss: 0.0650\n",
      "Epoch 7/10\n",
      "\u001b[1m75/75\u001b[0m \u001b[32m━━━━━━━━━━━━━━━━━━━━\u001b[0m\u001b[37m\u001b[0m \u001b[1m0s\u001b[0m 6ms/step - accuracy: 0.9956 - loss: 0.0304 - val_accuracy: 0.9833 - val_loss: 0.0489\n",
      "Epoch 8/10\n",
      "\u001b[1m75/75\u001b[0m \u001b[32m━━━━━━━━━━━━━━━━━━━━\u001b[0m\u001b[37m\u001b[0m \u001b[1m0s\u001b[0m 6ms/step - accuracy: 0.9981 - loss: 0.0185 - val_accuracy: 0.9667 - val_loss: 0.0750\n",
      "Epoch 9/10\n",
      "\u001b[1m75/75\u001b[0m \u001b[32m━━━━━━━━━━━━━━━━━━━━\u001b[0m\u001b[37m\u001b[0m \u001b[1m0s\u001b[0m 6ms/step - accuracy: 0.9980 - loss: 0.0135 - val_accuracy: 0.9883 - val_loss: 0.0322\n",
      "Epoch 10/10\n",
      "\u001b[1m75/75\u001b[0m \u001b[32m━━━━━━━━━━━━━━━━━━━━\u001b[0m\u001b[37m\u001b[0m \u001b[1m0s\u001b[0m 6ms/step - accuracy: 1.0000 - loss: 0.0065 - val_accuracy: 0.9883 - val_loss: 0.0433\n"
     ]
    }
   ],
   "source": [
    "history = model.fit(X, y, epochs=10, batch_size=32, validation_split=0.2)"
   ]
  },
  {
   "cell_type": "code",
   "execution_count": 17,
   "id": "707eb88e",
   "metadata": {},
   "outputs": [
    {
     "name": "stdout",
     "output_type": "stream",
     "text": [
      "94/94 - 0s - 2ms/step - accuracy: 0.9977 - loss: 0.0124\n",
      "Loss: 0.0124, Accuracy: 0.9977\n"
     ]
    }
   ],
   "source": [
    "# Оцінка моделі на всіх даних\n",
    "loss, accuracy = model.evaluate(X, y, verbose=2)\n",
    "print(f\"Loss: {loss:.4f}, Accuracy: {accuracy:.4f}\")"
   ]
  },
  {
   "cell_type": "code",
   "execution_count": 18,
   "id": "7df0c035",
   "metadata": {},
   "outputs": [
    {
     "name": "stdout",
     "output_type": "stream",
     "text": [
      "Epoch 1/10\n",
      "\u001b[1m75/75\u001b[0m \u001b[32m━━━━━━━━━━━━━━━━━━━━\u001b[0m\u001b[37m\u001b[0m \u001b[1m0s\u001b[0m 6ms/step - accuracy: 1.0000 - loss: 0.0041 - val_accuracy: 0.9900 - val_loss: 0.0308\n",
      "Epoch 2/10\n",
      "\u001b[1m75/75\u001b[0m \u001b[32m━━━━━━━━━━━━━━━━━━━━\u001b[0m\u001b[37m\u001b[0m \u001b[1m0s\u001b[0m 5ms/step - accuracy: 1.0000 - loss: 0.0028 - val_accuracy: 0.9900 - val_loss: 0.0312\n",
      "Epoch 3/10\n",
      "\u001b[1m75/75\u001b[0m \u001b[32m━━━━━━━━━━━━━━━━━━━━\u001b[0m\u001b[37m\u001b[0m \u001b[1m0s\u001b[0m 5ms/step - accuracy: 1.0000 - loss: 0.0028 - val_accuracy: 0.9917 - val_loss: 0.0308\n",
      "Epoch 4/10\n",
      "\u001b[1m75/75\u001b[0m \u001b[32m━━━━━━━━━━━━━━━━━━━━\u001b[0m\u001b[37m\u001b[0m \u001b[1m0s\u001b[0m 6ms/step - accuracy: 1.0000 - loss: 0.0019 - val_accuracy: 0.9900 - val_loss: 0.0244\n",
      "Epoch 5/10\n",
      "\u001b[1m75/75\u001b[0m \u001b[32m━━━━━━━━━━━━━━━━━━━━\u001b[0m\u001b[37m\u001b[0m \u001b[1m0s\u001b[0m 6ms/step - accuracy: 1.0000 - loss: 0.0015 - val_accuracy: 0.9917 - val_loss: 0.0257\n",
      "Epoch 6/10\n",
      "\u001b[1m75/75\u001b[0m \u001b[32m━━━━━━━━━━━━━━━━━━━━\u001b[0m\u001b[37m\u001b[0m \u001b[1m0s\u001b[0m 6ms/step - accuracy: 1.0000 - loss: 0.0014 - val_accuracy: 0.9900 - val_loss: 0.0223\n",
      "Epoch 7/10\n",
      "\u001b[1m75/75\u001b[0m \u001b[32m━━━━━━━━━━━━━━━━━━━━\u001b[0m\u001b[37m\u001b[0m \u001b[1m0s\u001b[0m 6ms/step - accuracy: 1.0000 - loss: 0.0011 - val_accuracy: 0.9933 - val_loss: 0.0214\n",
      "Epoch 8/10\n",
      "\u001b[1m75/75\u001b[0m \u001b[32m━━━━━━━━━━━━━━━━━━━━\u001b[0m\u001b[37m\u001b[0m \u001b[1m0s\u001b[0m 6ms/step - accuracy: 1.0000 - loss: 9.2938e-04 - val_accuracy: 0.9933 - val_loss: 0.0221\n",
      "Epoch 9/10\n",
      "\u001b[1m75/75\u001b[0m \u001b[32m━━━━━━━━━━━━━━━━━━━━\u001b[0m\u001b[37m\u001b[0m \u001b[1m0s\u001b[0m 6ms/step - accuracy: 1.0000 - loss: 7.3160e-04 - val_accuracy: 0.9917 - val_loss: 0.0242\n",
      "Epoch 10/10\n",
      "\u001b[1m75/75\u001b[0m \u001b[32m━━━━━━━━━━━━━━━━━━━━\u001b[0m\u001b[37m\u001b[0m \u001b[1m0s\u001b[0m 6ms/step - accuracy: 1.0000 - loss: 6.6655e-04 - val_accuracy: 0.9933 - val_loss: 0.0213\n",
      "94/94 - 0s - 2ms/step - accuracy: 0.9987 - loss: 0.0047\n",
      "Loss: 0.0047, Accuracy: 0.9987\n"
     ]
    }
   ],
   "source": [
    "history2 = model.fit(X, y, epochs=10, batch_size=32, validation_split=0.2)\n",
    "loss, accuracy = model.evaluate(X, y, verbose=2)\n",
    "print(f\"Loss: {loss:.4f}, Accuracy: {accuracy:.4f}\")"
   ]
  },
  {
   "cell_type": "code",
   "execution_count": 19,
   "id": "f913f471",
   "metadata": {},
   "outputs": [
    {
     "name": "stdout",
     "output_type": "stream",
     "text": [
      "\u001b[1m94/94\u001b[0m \u001b[32m━━━━━━━━━━━━━━━━━━━━\u001b[0m\u001b[37m\u001b[0m \u001b[1m0s\u001b[0m 2ms/step\n",
      "Кількість невірно класифікованих зображень: 4\n"
     ]
    },
    {
     "data": {
      "image/png": "[encoded data removed]",
      "text/plain": [
       "<Figure size 800x200 with 4 Axes>"
      ]
     },
     "metadata": {},
     "output_type": "display_data"
    }
   ],
   "source": [
    "# Отримати передбачення моделі\n",
    "y_pred = model.predict(X)\n",
    "y_pred_labels = np.argmax(y_pred, axis=1)\n",
    "\n",
    "# Індекси невірних передбачень\n",
    "wrong_indices = np.where(y_pred_labels != y)[0]\n",
    "\n",
    "print(f\"Кількість невірно класифікованих зображень: {len(wrong_indices)}\")\n",
    "\n",
    "# Вивести всі невірно класифіковані зображення\n",
    "if len(wrong_indices) > 0:\n",
    "    n = len(wrong_indices)\n",
    "    fig, axs = plt.subplots(1, n, figsize=(2*n, 2))\n",
    "    if n == 1:\n",
    "        axs = [axs]\n",
    "    for i, idx in enumerate(wrong_indices):\n",
    "        axs[i].imshow(X[idx].squeeze(), cmap='gray')\n",
    "        axs[i].set_title(f\"True: {CLASSES[y[idx]]}\\nPred: {CLASSES[y_pred_labels[idx]]}\")\n",
    "        axs[i].axis('off')\n",
    "    plt.tight_layout()\n",
    "    plt.show()\n",
    "else:\n",
    "    print(\"Модель правильно класифікує всі зображення.\")"
   ]
  },
  {
   "cell_type": "code",
   "execution_count": 20,
   "id": "f5a2708b",
   "metadata": {},
   "outputs": [
    {
     "name": "stdout",
     "output_type": "stream",
     "text": [
      "29/29 - 0s - 3ms/step - accuracy: 0.9911 - loss: 0.0173\n",
      "Loss on new dataset: 0.0173, Accuracy on new dataset: 0.9911\n"
     ]
    }
   ],
   "source": [
    "# Згенерувати новий датасет\n",
    "X_new, y_new = generate_dataset(num_samples_per_class=300)\n",
    "\n",
    "# Перемішати новий датасет\n",
    "X_new, y_new = shuffle(X_new, y_new)\n",
    "\n",
    "# Оцінити модель на новому датасеті\n",
    "loss_new, accuracy_new = model.evaluate(X_new, y_new, verbose=2)\n",
    "print(f\"Loss on new dataset: {loss_new:.4f}, Accuracy on new dataset: {accuracy_new:.4f}\")"
   ]
  }
 ],
 "metadata": {
  "kernelspec": {
   "display_name": "Python 3",
   "language": "python",
   "name": "python3"
  },
  "language_info": {
   "codemirror_mode": {
    "name": "ipython",
    "version": 3
   },
   "file_extension": ".py",
   "mimetype": "text/x-python",
   "name": "python",
   "nbconvert_exporter": "python",
   "pygments_lexer": "ipython3",
   "version": "3.12.7"
  }
 },
 "nbformat": 4,
 "nbformat_minor": 5
}
